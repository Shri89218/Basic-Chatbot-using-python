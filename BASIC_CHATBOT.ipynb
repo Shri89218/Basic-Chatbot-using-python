{
 "cells": [
  {
   "cell_type": "markdown",
   "id": "a09c55f0",
   "metadata": {},
   "source": [
    "# BASIC_CHATBOT"
   ]
  },
  {
   "cell_type": "code",
   "execution_count": 21,
   "id": "a15cd550",
   "metadata": {},
   "outputs": [
    {
     "name": "stdout",
     "output_type": "stream",
     "text": [
      "ME: Hi\n",
      "Bot: Hey There!\n",
      "ME: hello\n",
      "Bot: Hey There!\n",
      "ME: How are you\n",
      "Bot: Fine,How can I help you\n",
      "ME: Please HELP me \n",
      "Bot: \n",
      " 1. Regarding Branch \n",
      " 2. Regarding Fees \n",
      " 3. Regarding Accomodation \n",
      " 4. Contact Person \n",
      " \n",
      "ME: 1\n",
      "Bot: Branches Link--xyzclg.com\n",
      "ME: fees\n",
      "Bot: Fees Link--xyzclg.com\n",
      "ME: contacts\n",
      "Bot: Contacts--123456xdcsc10\n",
      "ME: 3\n",
      "Bot: Accomodation Link--xyzclg.com\n",
      "ME: where are you from\n",
      "Bot: Fine,How can I help you\n",
      "ME: ddf kfsvdvsd\n",
      "Bot: Please enter Valid question\n"
     ]
    }
   ],
   "source": [
    "while True:\n",
    "    x= input('ME: ').lower()\n",
    "    z= [y in ['help','helping','helps','helped','query','queries','doubt','doubts','doubted'] for y in x.split()]\n",
    "    d= [e in ['how','when','why','where','however','what'] for e in x.split()]\n",
    "    f= [l in ['thank you','thanks you','thanks','greetings','greet','thankful','greets','thank god','thanks to you'] for l in x.split()]\n",
    "    [print('Bot: Fine,How can I help you') for r in d if r== True ]\n",
    "    [print('Bot: \\n 1. Regarding Branch \\n 2. Regarding Fees \\n 3. Regarding Accomodation \\n 4. Contact Person \\n ') for s in z if s== True]\n",
    "    [print('Bot: Welcome \\n Visit again ') for t in f if t== True]\n",
    "    \n",
    "    g=['hi','hello','hey','hola','holla']\n",
    "    if x in g :\n",
    "        print('Bot: Hey There!')\n",
    "    elif x=='1' or x=='regarding branch' or x=='branch' or x=='branches':\n",
    "        print('Bot: Branches Link--xyzclg.com')\n",
    "    elif x=='2' or x=='regarding fees' or x=='fees' or x=='fee':\n",
    "\n",
    "        print('Bot: Fees Link--xyzclg.com')\n",
    "    elif x=='3' or x=='regarding accomodation' or x=='accomodation' or x=='accomodations':\n",
    "\n",
    "        print('Bot: Accomodation Link--xyzclg.com')    \n",
    "    \n",
    "    elif x=='4' or x=='contacts' or x=='contact':\n",
    "\n",
    "        print('Bot: Contacts--123456xdcsc10')\n",
    "    elif  z==d==f and x not in g:\n",
    "        \n",
    "        print(\"Bot: Please enter Valid question\")\n",
    "    \n",
    "        break"
   ]
  }
 ],
 "metadata": {
  "kernelspec": {
   "display_name": "Python 3 (ipykernel)",
   "language": "python",
   "name": "python3"
  },
  "language_info": {
   "codemirror_mode": {
    "name": "ipython",
    "version": 3
   },
   "file_extension": ".py",
   "mimetype": "text/x-python",
   "name": "python",
   "nbconvert_exporter": "python",
   "pygments_lexer": "ipython3",
   "version": "3.9.12"
  }
 },
 "nbformat": 4,
 "nbformat_minor": 5
}
